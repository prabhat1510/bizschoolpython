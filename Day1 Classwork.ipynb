{
 "cells": [
  {
   "cell_type": "code",
   "execution_count": 4,
   "id": "77938e12",
   "metadata": {},
   "outputs": [
    {
     "name": "stdout",
     "output_type": "stream",
     "text": [
      "25\n"
     ]
    }
   ],
   "source": [
    "#Variable a and b -- Example of single line comment\n",
    "'''\n",
    "    This is multiple line comments\n",
    "    Below program is of adding two numbers\n",
    "    two numbers are assingned in a variable a and b using \n",
    "    the assignment operator =\n",
    "'''\n",
    "#a=10\n",
    "#b=15\n",
    "num1 = 10\n",
    "num2 = 15\n",
    "#Below variable result is storing the outcome after performing addition \n",
    "#result = a+b\n",
    "sum = num1 + num2\n",
    "#print(result)\n",
    "#print(a+b)\n",
    "print(sum)"
   ]
  },
  {
   "cell_type": "code",
   "execution_count": 10,
   "id": "a7f654de",
   "metadata": {},
   "outputs": [
    {
     "name": "stdout",
     "output_type": "stream",
     "text": [
      "5\n",
      "10\n",
      "<class 'int'>\n",
      "<class 'float'>\n",
      "<class 'complex'>\n"
     ]
    }
   ],
   "source": [
    "num1=5\n",
    "num2=6\n",
    "Num1=10\n",
    "print(num1)\n",
    "print(Num1)\n",
    "print(type(num1))\n",
    "decValue=10.50\n",
    "print(type(decValue))\n",
    "x=10+5j\n",
    "print(type(x))"
   ]
  },
  {
   "cell_type": "code",
   "execution_count": 14,
   "id": "b523c4f4",
   "metadata": {},
   "outputs": [
    {
     "name": "stdout",
     "output_type": "stream",
     "text": [
      "-10\n",
      "<class 'int'>\n"
     ]
    }
   ],
   "source": [
    "_=-10\n",
    "print(_)\n",
    "print(type(_))"
   ]
  },
  {
   "cell_type": "code",
   "execution_count": 17,
   "id": "d658ccb7",
   "metadata": {},
   "outputs": [
    {
     "name": "stdout",
     "output_type": "stream",
     "text": [
      "False\n",
      "True\n"
     ]
    }
   ],
   "source": [
    "isClassBoring = False\n",
    "print(isClassBoring)\n",
    "isClassBoring = True\n",
    "print(isClassBoring)"
   ]
  },
  {
   "cell_type": "code",
   "execution_count": 18,
   "id": "0aaa3b65",
   "metadata": {},
   "outputs": [
    {
     "name": "stdout",
     "output_type": "stream",
     "text": [
      "16\n",
      "21\n"
     ]
    }
   ],
   "source": [
    "x=5\n",
    "y=6\n",
    "x=10\n",
    "z=11\n",
    "x=5\n",
    "print(x+y)\n",
    "print(x+z)"
   ]
  },
  {
   "cell_type": "code",
   "execution_count": 20,
   "id": "f9069015",
   "metadata": {},
   "outputs": [
    {
     "name": "stdout",
     "output_type": "stream",
     "text": [
      "<class 'str'>\n",
      "<class 'str'>\n"
     ]
    }
   ],
   "source": [
    "'''\n",
    "    String data type \n",
    "    String is a group characters\n",
    "'''\n",
    "message=\"Good Morning All !\"\n",
    "print(type(message))\n",
    "\n",
    "msg='Good Morning All !'\n",
    "print(type(msg))"
   ]
  },
  {
   "cell_type": "code",
   "execution_count": 25,
   "id": "77f46114",
   "metadata": {},
   "outputs": [
    {
     "name": "stdout",
     "output_type": "stream",
     "text": [
      "<class 'str'>\n",
      "18\n",
      "d\n"
     ]
    }
   ],
   "source": [
    "#Retrieve a single character 'd' from msg\n",
    "#    0123456789       17 <--- index of the characters placed with in a string\n",
    "msg='Good Morning All !'\n",
    "print(type(msg))\n",
    "print(len(msg))\n",
    "msg[3]\n",
    "print(msg[3])"
   ]
  },
  {
   "cell_type": "code",
   "execution_count": 34,
   "id": "f884ccb1",
   "metadata": {},
   "outputs": [
    {
     "name": "stdout",
     "output_type": "stream",
     "text": [
      "e\n",
      "9\n",
      "6\n",
      "2\n",
      "4\n",
      "1\n",
      "str(object='') -> str\n",
      "str(bytes_or_buffer[, encoding[, errors]]) -> str\n",
      "\n",
      "Create a new string object from the given object. If encoding or\n",
      "errors is specified, then the object must expose a data buffer\n",
      "that will be decoded using the given encoding and error handler.\n",
      "Otherwise, returns the result of object.__str__() (if defined)\n",
      "or repr(object).\n",
      "encoding defaults to sys.getdefaultencoding().\n",
      "errors defaults to 'strict'.\n",
      "HELLO ALL\n",
      "hello all\n"
     ]
    }
   ],
   "source": [
    "hello = \"Hello All\"\n",
    "print(hello[1])\n",
    "print(len(hello))\n",
    "print(hello.index(\"A\"))\n",
    "print(hello.index(\"l\"))\n",
    "print(hello.count(\"l\"))\n",
    "print(hello.count(\"A\"))\n",
    "#__doc__ is to get description about the class or function\n",
    "print(str.__doc__)\n",
    "#Convert all characters of hello variable into Upper Case\n",
    "print(hello.upper())\n",
    "print(hello.lower())"
   ]
  },
  {
   "cell_type": "code",
   "execution_count": 39,
   "id": "ccc4b54f",
   "metadata": {},
   "outputs": [
    {
     "name": "stdout",
     "output_type": "stream",
     "text": [
      "11\n",
      "o Worl\n",
      "o World\n",
      "dlroW olleH\n",
      "['__add__', '__class__', '__contains__', '__delattr__', '__dir__', '__doc__', '__eq__', '__format__', '__ge__', '__getattribute__', '__getitem__', '__getnewargs__', '__getstate__', '__gt__', '__hash__', '__init__', '__init_subclass__', '__iter__', '__le__', '__len__', '__lt__', '__mod__', '__mul__', '__ne__', '__new__', '__reduce__', '__reduce_ex__', '__repr__', '__rmod__', '__rmul__', '__setattr__', '__sizeof__', '__str__', '__subclasshook__', 'capitalize', 'casefold', 'center', 'count', 'encode', 'endswith', 'expandtabs', 'find', 'format', 'format_map', 'index', 'isalnum', 'isalpha', 'isascii', 'isdecimal', 'isdigit', 'isidentifier', 'islower', 'isnumeric', 'isprintable', 'isspace', 'istitle', 'isupper', 'join', 'ljust', 'lower', 'lstrip', 'maketrans', 'partition', 'removeprefix', 'removesuffix', 'replace', 'rfind', 'rindex', 'rjust', 'rpartition', 'rsplit', 'rstrip', 'split', 'splitlines', 'startswith', 'strip', 'swapcase', 'title', 'translate', 'upper', 'zfill']\n"
     ]
    }
   ],
   "source": [
    "#Start index position is zero and end position is len-1 which is 10 in case of below example\n",
    "#       012345678910\n",
    "hWorld=\"Hello World\"\n",
    "print(len(hWorld))\n",
    "print(hWorld[4:10])\n",
    "print(hWorld[4:11])\n",
    "print(hWorld[::-1])\n",
    "print(dir(str))"
   ]
  },
  {
   "cell_type": "code",
   "execution_count": 41,
   "id": "006d74ac",
   "metadata": {},
   "outputs": [
    {
     "name": "stdout",
     "output_type": "stream",
     "text": [
      "Hello All !\n",
      "Hi All !\n"
     ]
    }
   ],
   "source": [
    "hello = \"Hello All !\"\n",
    "newHello = hello.replace(\"Hello\",\"Hi\")\n",
    "print(hello)\n",
    "print(newHello)"
   ]
  },
  {
   "cell_type": "code",
   "execution_count": 49,
   "id": "b4ee3436",
   "metadata": {},
   "outputs": [
    {
     "name": "stdout",
     "output_type": "stream",
     "text": [
      "False\n",
      "False\n",
      "True\n",
      "False\n"
     ]
    }
   ],
   "source": [
    "alphaNum=\"Hi 123 All\"\n",
    "print(alphaNum.isalnum())\n",
    "print(alphaNum.isalpha())\n",
    "newANum =\"11122232\"\n",
    "print(newANum.isalnum())\n",
    "print(newANum.isalpha())"
   ]
  },
  {
   "cell_type": "code",
   "execution_count": 57,
   "id": "997ce58c",
   "metadata": {},
   "outputs": [
    {
     "name": "stdout",
     "output_type": "stream",
     "text": [
      "['Physics', 'Chemistry', 'Biology', 'Maths', 'English']\n",
      "[4, 5, 10.5, 'Prabhat', (10+5j), [5, 4, 3], 15]\n",
      "5\n",
      "7\n",
      "Biology\n",
      "English\n",
      "['Physics', 'Chemistry', 'Biology', 'Economics', 'English']\n",
      "['Physics', 'Chemistry', 'Economics', 'English']\n",
      "['Physics', 'Chemistry', 'Economics', 'English', 'Physics', 'Chemistry', 'Economics', 'English']\n",
      "['Physics', 'Chemistry', 'Economics', 'English']\n"
     ]
    }
   ],
   "source": [
    "#List\n",
    "subject=['Physics','Chemistry','Biology','Maths','English']\n",
    "listOfObjects=[4,5,10.50,'Prabhat',10+5j,[5,4,3],15]\n",
    "print(subject)\n",
    "print(listOfObjects)\n",
    "print(len(subject))\n",
    "print(len(listOfObjects))\n",
    "print(subject[2])\n",
    "print(subject[4])\n",
    "subject[3]='Economics'\n",
    "print(subject)\n",
    "del subject[2]\n",
    "print(subject)\n",
    "print(subject * 2)\n",
    "print(subject)"
   ]
  },
  {
   "cell_type": "code",
   "execution_count": 62,
   "id": "ddcec0e2",
   "metadata": {},
   "outputs": [
    {
     "name": "stdout",
     "output_type": "stream",
     "text": [
      "('hazard', 'lampard', 'terry')\n",
      "3\n",
      "hazard\n",
      "terry\n"
     ]
    },
    {
     "ename": "TypeError",
     "evalue": "'tuple' object does not support item assignment",
     "output_type": "error",
     "traceback": [
      "\u001b[1;31m---------------------------------------------------------------------------\u001b[0m",
      "\u001b[1;31mTypeError\u001b[0m                                 Traceback (most recent call last)",
      "Cell \u001b[1;32mIn[62], line 7\u001b[0m\n\u001b[0;32m      5\u001b[0m \u001b[38;5;28mprint\u001b[39m(chelsea[\u001b[38;5;241m0\u001b[39m])\n\u001b[0;32m      6\u001b[0m \u001b[38;5;28mprint\u001b[39m(chelsea[\u001b[38;5;241m2\u001b[39m])\n\u001b[1;32m----> 7\u001b[0m chelsea[\u001b[38;5;241m2\u001b[39m]\u001b[38;5;241m=\u001b[39m\u001b[38;5;124m'\u001b[39m\u001b[38;5;124mHari\u001b[39m\u001b[38;5;124m'\u001b[39m\n\u001b[0;32m      8\u001b[0m \u001b[38;5;28mprint\u001b[39m(chelsea)\n",
      "\u001b[1;31mTypeError\u001b[0m: 'tuple' object does not support item assignment"
     ]
    }
   ],
   "source": [
    "#Tuples\n",
    "chelsea=('hazard','lampard','terry')\n",
    "print(chelsea)\n",
    "print(len(chelsea))\n",
    "print(chelsea[0])\n",
    "print(chelsea[2])\n",
    "chelsea[2]='Hari'\n",
    "print(chelsea)"
   ]
  },
  {
   "cell_type": "code",
   "execution_count": null,
   "id": "d9f9d568",
   "metadata": {},
   "outputs": [],
   "source": []
  }
 ],
 "metadata": {
  "kernelspec": {
   "display_name": "Python 3 (ipykernel)",
   "language": "python",
   "name": "python3"
  },
  "language_info": {
   "codemirror_mode": {
    "name": "ipython",
    "version": 3
   },
   "file_extension": ".py",
   "mimetype": "text/x-python",
   "name": "python",
   "nbconvert_exporter": "python",
   "pygments_lexer": "ipython3",
   "version": "3.11.5"
  }
 },
 "nbformat": 4,
 "nbformat_minor": 5
}
