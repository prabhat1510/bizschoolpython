{
 "cells": [
  {
   "cell_type": "code",
   "execution_count": 3,
   "id": "418b3bdc",
   "metadata": {},
   "outputs": [
    {
     "name": "stdout",
     "output_type": "stream",
     "text": [
      "('Dev', 'Test', 'Prod', 'HR')\n",
      "HR\n",
      "('Test', 'Prod', 'HR')\n",
      "Dev\n",
      "Test\n",
      "Prod\n",
      "HR\n",
      "Test is present\n"
     ]
    }
   ],
   "source": [
    "tup1 = (\"Dev\",\"Test\",\"Prod\",\"HR\")\n",
    "print(tup1)\n",
    "print(tup1[3])\n",
    "print(tup1[1:4])\n",
    "for x in tup1:\n",
    "    print(x)\n",
    "for y in tup1:\n",
    "    if(y == \"Test\"):\n",
    "     print(\"Test is present\")\n",
    "    "
   ]
  },
  {
   "cell_type": "code",
   "execution_count": 12,
   "id": "d209441b",
   "metadata": {},
   "outputs": [
    {
     "name": "stdout",
     "output_type": "stream",
     "text": [
      "10\n",
      "11\n",
      "*********\n",
      "15\n",
      "*********\n",
      "10\n",
      "*********\n",
      "25\n",
      "*********\n",
      "16\n",
      "*********\n",
      "21\n",
      "*********\n",
      "22\n",
      "11  is present in our tuple\n",
      "11 is present in our tuple\n",
      "*********\n",
      "9\n",
      "*********\n",
      "8\n",
      "*********\n",
      "12\n",
      "*********\n",
      "26\n",
      "*********\n",
      "23\n",
      "*********\n",
      "19\n"
     ]
    }
   ],
   "source": [
    "tup2=(15,10,25,16,21,22,11,9,8,12,26,23,19)\n",
    "print(tup2[1])\n",
    "print(tup2[6])\n",
    "for n in tup2:\n",
    "    if(n==11):\n",
    "        print(n, \" is present in our tuple\")\n",
    "        print(str(n)+\" is present in our tuple\")\n",
    "    else:\n",
    "        print(\"*********\")\n",
    "        print(n)"
   ]
  },
  {
   "cell_type": "code",
   "execution_count": 13,
   "id": "704670ec",
   "metadata": {},
   "outputs": [
    {
     "ename": "TypeError",
     "evalue": "'tuple' object does not support item assignment",
     "output_type": "error",
     "traceback": [
      "\u001b[1;31m---------------------------------------------------------------------------\u001b[0m",
      "\u001b[1;31mTypeError\u001b[0m                                 Traceback (most recent call last)",
      "Cell \u001b[1;32mIn[13], line 2\u001b[0m\n\u001b[0;32m      1\u001b[0m tup1 \u001b[38;5;241m=\u001b[39m (\u001b[38;5;124m\"\u001b[39m\u001b[38;5;124mDev\u001b[39m\u001b[38;5;124m\"\u001b[39m,\u001b[38;5;124m\"\u001b[39m\u001b[38;5;124mTest\u001b[39m\u001b[38;5;124m\"\u001b[39m,\u001b[38;5;124m\"\u001b[39m\u001b[38;5;124mProd\u001b[39m\u001b[38;5;124m\"\u001b[39m,\u001b[38;5;124m\"\u001b[39m\u001b[38;5;124mHR\u001b[39m\u001b[38;5;124m\"\u001b[39m)\n\u001b[1;32m----> 2\u001b[0m tup1[\u001b[38;5;241m3\u001b[39m]\u001b[38;5;241m=\u001b[39m\u001b[38;5;124m\"\u001b[39m\u001b[38;5;124mFunctions\u001b[39m\u001b[38;5;124m\"\u001b[39m\n\u001b[0;32m      3\u001b[0m \u001b[38;5;28mprint\u001b[39m(tup1)\n",
      "\u001b[1;31mTypeError\u001b[0m: 'tuple' object does not support item assignment"
     ]
    }
   ],
   "source": [
    "tup1 = (\"Dev\",\"Test\",\"Prod\",\"HR\")\n",
    "tup1[3]=\"Functions\"\n",
    "print(tup1)"
   ]
  },
  {
   "cell_type": "code",
   "execution_count": 14,
   "id": "22f8448a",
   "metadata": {},
   "outputs": [
    {
     "ename": "TypeError",
     "evalue": "'tuple' object doesn't support item deletion",
     "output_type": "error",
     "traceback": [
      "\u001b[1;31m---------------------------------------------------------------------------\u001b[0m",
      "\u001b[1;31mTypeError\u001b[0m                                 Traceback (most recent call last)",
      "Cell \u001b[1;32mIn[14], line 2\u001b[0m\n\u001b[0;32m      1\u001b[0m tup1 \u001b[38;5;241m=\u001b[39m (\u001b[38;5;124m\"\u001b[39m\u001b[38;5;124mDev\u001b[39m\u001b[38;5;124m\"\u001b[39m,\u001b[38;5;124m\"\u001b[39m\u001b[38;5;124mTest\u001b[39m\u001b[38;5;124m\"\u001b[39m,\u001b[38;5;124m\"\u001b[39m\u001b[38;5;124mProd\u001b[39m\u001b[38;5;124m\"\u001b[39m,\u001b[38;5;124m\"\u001b[39m\u001b[38;5;124mHR\u001b[39m\u001b[38;5;124m\"\u001b[39m)\n\u001b[1;32m----> 2\u001b[0m \u001b[38;5;28;01mdel\u001b[39;00m tup1[\u001b[38;5;241m2\u001b[39m]\n",
      "\u001b[1;31mTypeError\u001b[0m: 'tuple' object doesn't support item deletion"
     ]
    }
   ],
   "source": [
    "tup1 = (\"Dev\",\"Test\",\"Prod\",\"HR\")\n",
    "del tup1[2]"
   ]
  },
  {
   "cell_type": "code",
   "execution_count": 15,
   "id": "f53edfb6",
   "metadata": {},
   "outputs": [
    {
     "ename": "NameError",
     "evalue": "name 'tup1' is not defined",
     "output_type": "error",
     "traceback": [
      "\u001b[1;31m---------------------------------------------------------------------------\u001b[0m",
      "\u001b[1;31mNameError\u001b[0m                                 Traceback (most recent call last)",
      "Cell \u001b[1;32mIn[15], line 3\u001b[0m\n\u001b[0;32m      1\u001b[0m tup1 \u001b[38;5;241m=\u001b[39m (\u001b[38;5;124m\"\u001b[39m\u001b[38;5;124mDev\u001b[39m\u001b[38;5;124m\"\u001b[39m,\u001b[38;5;124m\"\u001b[39m\u001b[38;5;124mTest\u001b[39m\u001b[38;5;124m\"\u001b[39m,\u001b[38;5;124m\"\u001b[39m\u001b[38;5;124mProd\u001b[39m\u001b[38;5;124m\"\u001b[39m,\u001b[38;5;124m\"\u001b[39m\u001b[38;5;124mHR\u001b[39m\u001b[38;5;124m\"\u001b[39m)\n\u001b[0;32m      2\u001b[0m \u001b[38;5;28;01mdel\u001b[39;00m tup1\n\u001b[1;32m----> 3\u001b[0m \u001b[38;5;28mprint\u001b[39m(tup1)\n",
      "\u001b[1;31mNameError\u001b[0m: name 'tup1' is not defined"
     ]
    }
   ],
   "source": [
    "tup1 = (\"Dev\",\"Test\",\"Prod\",\"HR\")\n",
    "del tup1\n",
    "print(tup1)"
   ]
  },
  {
   "cell_type": "code",
   "execution_count": 19,
   "id": "dc8719e0",
   "metadata": {},
   "outputs": [
    {
     "name": "stdout",
     "output_type": "stream",
     "text": [
      "{1, 2, 3, 4, 5, 9, 11}\n",
      "<class 'set'>\n"
     ]
    }
   ],
   "source": [
    "#Set\n",
    "setOfNumbers={2,3,1,3,11,9,4,5,5,4}\n",
    "print(setOfNumbers)\n",
    "print(type(setOfNumbers))"
   ]
  },
  {
   "cell_type": "code",
   "execution_count": 20,
   "id": "5f1c311a",
   "metadata": {},
   "outputs": [
    {
     "name": "stdout",
     "output_type": "stream",
     "text": [
      "{1, 2, 3, 4, 5, 6}\n"
     ]
    }
   ],
   "source": [
    "#Union of two sets\n",
    "A={1,2,3,4}\n",
    "B={3,4,5,6}\n",
    "print(A|B)"
   ]
  },
  {
   "cell_type": "code",
   "execution_count": 21,
   "id": "59d9f134",
   "metadata": {},
   "outputs": [
    {
     "name": "stdout",
     "output_type": "stream",
     "text": [
      "{3, 4}\n"
     ]
    }
   ],
   "source": [
    "#Intersection\n",
    "A={1,2,3,4}\n",
    "B={3,4,5,6}\n",
    "print(A&B)"
   ]
  },
  {
   "cell_type": "code",
   "execution_count": 22,
   "id": "369ee944",
   "metadata": {},
   "outputs": [
    {
     "name": "stdout",
     "output_type": "stream",
     "text": [
      "{1, 2, 5, 6}\n"
     ]
    }
   ],
   "source": [
    "#Symmetric Difference\n",
    "A={1,2,3,4}\n",
    "B={3,4,5,6}\n",
    "print(A^B)"
   ]
  },
  {
   "cell_type": "code",
   "execution_count": 25,
   "id": "7ba62dd7",
   "metadata": {},
   "outputs": [
    {
     "name": "stdout",
     "output_type": "stream",
     "text": [
      "0  is present\n",
      "0 is present using if condition \n"
     ]
    }
   ],
   "source": [
    "#Accessing set elements\n",
    "X={11,12,13,0,1,2,3,4,5,6,7,8,9,10}\n",
    "#Using for loop\n",
    "for x in X:\n",
    "    if(x == 0):\n",
    "        print(x,\" is present\")\n",
    "#Using in operator \n",
    "if 0 in X:\n",
    "    print(\"0 is present using if condition \")"
   ]
  },
  {
   "cell_type": "code",
   "execution_count": 27,
   "id": "f11b0ea3",
   "metadata": {},
   "outputs": [
    {
     "name": "stdout",
     "output_type": "stream",
     "text": [
      "14\n"
     ]
    },
    {
     "ename": "TypeError",
     "evalue": "'set' object is not subscriptable",
     "output_type": "error",
     "traceback": [
      "\u001b[1;31m---------------------------------------------------------------------------\u001b[0m",
      "\u001b[1;31mTypeError\u001b[0m                                 Traceback (most recent call last)",
      "Cell \u001b[1;32mIn[27], line 4\u001b[0m\n\u001b[0;32m      2\u001b[0m X\u001b[38;5;241m=\u001b[39m{\u001b[38;5;241m11\u001b[39m,\u001b[38;5;241m12\u001b[39m,\u001b[38;5;241m13\u001b[39m,\u001b[38;5;241m0\u001b[39m,\u001b[38;5;241m1\u001b[39m,\u001b[38;5;241m2\u001b[39m,\u001b[38;5;241m3\u001b[39m,\u001b[38;5;241m4\u001b[39m,\u001b[38;5;241m5\u001b[39m,\u001b[38;5;241m6\u001b[39m,\u001b[38;5;241m7\u001b[39m,\u001b[38;5;241m8\u001b[39m,\u001b[38;5;241m9\u001b[39m,\u001b[38;5;241m10\u001b[39m}\n\u001b[0;32m      3\u001b[0m \u001b[38;5;28mprint\u001b[39m(\u001b[38;5;28mlen\u001b[39m(X))\n\u001b[1;32m----> 4\u001b[0m \u001b[38;5;28mprint\u001b[39m(X[\u001b[38;5;241m3\u001b[39m])\n",
      "\u001b[1;31mTypeError\u001b[0m: 'set' object is not subscriptable"
     ]
    }
   ],
   "source": [
    "#Accessing set elements\n",
    "X={11,12,13,0,1,2,3,4,5,6,7,8,9,10}\n",
    "print(len(X))\n",
    "print(X[3])#Using index you can't access set elements"
   ]
  },
  {
   "cell_type": "code",
   "execution_count": 31,
   "id": "3c702ac8",
   "metadata": {},
   "outputs": [
    {
     "name": "stdout",
     "output_type": "stream",
     "text": [
      "{'Hello', 'Republic', 26, 'Happy', 'Day', 10.5, 'January'}\n",
      "['__and__', '__class__', '__class_getitem__', '__contains__', '__delattr__', '__dir__', '__doc__', '__eq__', '__format__', '__ge__', '__getattribute__', '__getstate__', '__gt__', '__hash__', '__iand__', '__init__', '__init_subclass__', '__ior__', '__isub__', '__iter__', '__ixor__', '__le__', '__len__', '__lt__', '__ne__', '__new__', '__or__', '__rand__', '__reduce__', '__reduce_ex__', '__repr__', '__ror__', '__rsub__', '__rxor__', '__setattr__', '__sizeof__', '__str__', '__sub__', '__subclasshook__', '__xor__', 'add', 'clear', 'copy', 'difference', 'difference_update', 'discard', 'intersection', 'intersection_update', 'isdisjoint', 'issubset', 'issuperset', 'pop', 'remove', 'symmetric_difference', 'symmetric_difference_update', 'union', 'update']\n"
     ]
    }
   ],
   "source": [
    "setOfData={\"Hello\",\"Happy\",\"Republic\",\"Day\",26,\"January\",10.50}\n",
    "print(setOfData)\n",
    "print(dir(setOfData))"
   ]
  },
  {
   "cell_type": "code",
   "execution_count": 39,
   "id": "79651965",
   "metadata": {},
   "outputs": [
    {
     "name": "stdout",
     "output_type": "stream",
     "text": [
      "{'Hello', 'Republic', 26, 'Happy', 'Day', 10.5, 'January'}\n",
      "{'Hello', 'Republic', 26, 'Ramesh', 'Happy', 'Day', 10.5, 'January'}\n",
      "{'Hello', 10.5, 'Republic', 'Ramesh', 'Happy', 'Day', 26, 'January'}\n",
      "{'Hello', 10.5, 'Republic', 'Happy', 'Day', 26, 'January'}\n",
      "**************************\n",
      "{'Hello', '5', 10.5, 'Republic', 'Happy', 'Day', 26, 'January', '1'}\n",
      "{'Hello', '5', 10.5, 10, 15, 'Republic', 'Happy', 'Day', 26, 'January', 25, '1'}\n",
      "{'Hello', '5', 10.5, 10, 15, 'Republic', 21, 22, 24, 'Happy', 'Day', 26, 'January', 25, '1'}\n"
     ]
    }
   ],
   "source": [
    "setOfData={\"Hello\",\"Happy\",\"Republic\",\"Day\",26,\"January\",10.50}\n",
    "print(setOfData)\n",
    "setOfData.add(\"Ramesh\")#Add element in a set\n",
    "print(setOfData)\n",
    "copiedData = setOfData.copy()\n",
    "print(copiedData)\n",
    "copiedData.remove(\"Ramesh\") # Removes a specified elements from set\n",
    "print(copiedData)\n",
    "print(\"************Update**************\")\n",
    "copiedData.update(\"15\")\n",
    "print(copiedData)\n",
    "newSet = {15,10,25}\n",
    "copiedData.update(newSet)# update function adds data from another set to a set\n",
    "print(copiedData)\n",
    "listOfNumbers = [21,22,24]\n",
    "copiedData.update(listOfNumbers)#adds data from another list to a set\n",
    "print(copiedData)"
   ]
  },
  {
   "cell_type": "code",
   "execution_count": 49,
   "id": "2711cb2c",
   "metadata": {},
   "outputs": [
    {
     "name": "stdout",
     "output_type": "stream",
     "text": [
      "{1, 2, 4, 5, 6, 7}\n",
      "{1, 2, 4, 5, 7}\n",
      "{1, 2, 5, 7}\n",
      "***************\n",
      "{2, 5, 7}\n",
      "2\n",
      "{5, 7}\n"
     ]
    }
   ],
   "source": [
    "#Another way to create a set\n",
    "set1=set({5,6,7,4,2,1})\n",
    "print(set1)\n",
    "#Remove a element\n",
    "set1.remove(6)\n",
    "print(set1)\n",
    "set1.discard(4)\n",
    "print(set1)\n",
    "#del set1[2] # 'set' object doesn't support item deletion\n",
    "print(\"***************\")\n",
    "set1.pop() # Removes random element or items from a set\n",
    "print(set1)\n",
    "x=set1.pop()# Removes random element or items from a set and returns or gives you the element \n",
    "print(x)\n",
    "print(set1)"
   ]
  },
  {
   "cell_type": "code",
   "execution_count": 59,
   "id": "c2035252",
   "metadata": {},
   "outputs": [
    {
     "name": "stdout",
     "output_type": "stream",
     "text": [
      "{'Philip Kotler', 'OB', 'Strategy', 'WSJ', 'Python Programming'}\n",
      "Philip Kotler\n",
      "*************Before remove*********\n",
      "{'OB', 'Strategy', 'WSJ', 'Python Programming'}\n",
      "None\n",
      "{'OB', 'WSJ', 'Python Programming'}\n",
      "*********Discard***************\n",
      "None\n",
      "{'OB', 'WSJ', 'Python Programming'}\n",
      "********************Delete************\n"
     ]
    },
    {
     "ename": "NameError",
     "evalue": "name 'setOfBooks' is not defined",
     "output_type": "error",
     "traceback": [
      "\u001b[1;31m---------------------------------------------------------------------------\u001b[0m",
      "\u001b[1;31mNameError\u001b[0m                                 Traceback (most recent call last)",
      "Cell \u001b[1;32mIn[59], line 19\u001b[0m\n\u001b[0;32m     17\u001b[0m \u001b[38;5;28mprint\u001b[39m(\u001b[38;5;124m\"\u001b[39m\u001b[38;5;124m********************Delete************\u001b[39m\u001b[38;5;124m\"\u001b[39m)\n\u001b[0;32m     18\u001b[0m \u001b[38;5;28;01mdel\u001b[39;00m setOfBooks\n\u001b[1;32m---> 19\u001b[0m \u001b[38;5;28mprint\u001b[39m(setOfBooks)\n",
      "\u001b[1;31mNameError\u001b[0m: name 'setOfBooks' is not defined"
     ]
    }
   ],
   "source": [
    "setOfBooks=set({\"Python Programming\",\"Strategy\",\"WSJ\",\"Philip Kotler\",\"OB\"})\n",
    "print(setOfBooks)\n",
    "#pop\n",
    "popedBook= setOfBooks.pop()\n",
    "print(popedBook)\n",
    "print(\"*************Before remove*********\")\n",
    "print(setOfBooks)\n",
    "#remove\n",
    "removedBook = setOfBooks.remove(\"Strategy\")# Remove function removes random item and returns None if item is present else error\n",
    "print(removedBook) \n",
    "print(setOfBooks)\n",
    "print(\"*********Discard***************\")\n",
    "#discard\n",
    "discardedBook=setOfBooks.discard(\"Java Programming\")\n",
    "print(discardedBook)\n",
    "print(setOfBooks)\n",
    "print(\"********************Delete************\")\n",
    "del setOfBooks #deletes the entire set object itself\n",
    "print(setOfBooks)"
   ]
  },
  {
   "cell_type": "code",
   "execution_count": 60,
   "id": "308bab7d",
   "metadata": {},
   "outputs": [
    {
     "name": "stdout",
     "output_type": "stream",
     "text": [
      "{1, 2, 3, 4, 5}\n",
      "set()\n"
     ]
    }
   ],
   "source": [
    "setOfX ={1,2,3,4,5}\n",
    "print(setOfX)\n",
    "setOfX.clear() #Removes all items or elements from set. \n",
    "print(setOfX)"
   ]
  },
  {
   "cell_type": "code",
   "execution_count": 61,
   "id": "e9c91dc9",
   "metadata": {},
   "outputs": [
    {
     "name": "stdout",
     "output_type": "stream",
     "text": [
      "{'d', 'h', 'c', 'g', 'a', 'e', 'f', 'b'}\n",
      "{'d', 'e'}\n",
      "True\n",
      "True\n",
      "False\n",
      "{'d', 'h', 'c', 'g', 'a', 'e', 'f', 'b'}\n"
     ]
    }
   ],
   "source": [
    "set1 = {'a','b','c','d','e','a'}\n",
    "set2 = {'d','e','f','g','h'}\n",
    "set3 = {'c','d','e'}\n",
    "print(set1.union(set2))\n",
    "print(set1.intersection(set2))\n",
    "print(set1.issuperset(set3))\n",
    "print(set3.issubset(set1))\n",
    "print(set2.issuperset(set3))\n",
    "set1.update(set2)\n",
    "print(set1)"
   ]
  },
  {
   "cell_type": "code",
   "execution_count": 65,
   "id": "0d9c0ca6",
   "metadata": {},
   "outputs": [
    {
     "name": "stdout",
     "output_type": "stream",
     "text": [
      "Index position 0 contains value 4\n",
      "Index position 1 contains value 5\n",
      "Index position 2 contains value 6\n",
      "Index position 3 contains value 7\n",
      "Index position 4 contains value 8\n",
      "Index position 5 contains value 9\n",
      "Index position 6 contains value 10\n",
      "Index position 7 contains value 1\n",
      "Index position 8 contains value 2\n",
      "Index position 9 contains value 3\n"
     ]
    }
   ],
   "source": [
    "listOfNumbers =[4,5,6,7,8,9,10,1,2,3]\n",
    "lengthOflistOfNumbers= len(listOfNumbers)\n",
    "for index,n in enumerate(listOfNumbers):\n",
    "  print(\"Index position \"+str(index)+\" contains value \"+ str(n))"
   ]
  },
  {
   "cell_type": "code",
   "execution_count": 66,
   "id": "76750282",
   "metadata": {},
   "outputs": [
    {
     "name": "stdout",
     "output_type": "stream",
     "text": [
      "12 * 1 = 12\n",
      "12 * 2 = 24\n",
      "12 * 3 = 36\n",
      "12 * 4 = 48\n",
      "12 * 5 = 60\n",
      "12 * 6 = 72\n",
      "12 * 7 = 84\n",
      "12 * 8 = 96\n",
      "12 * 9 = 108\n",
      "12 * 10 = 120\n"
     ]
    }
   ],
   "source": [
    "num=12\n",
    "for i in range(1,11):\n",
    "    print(num,'*',i,'=',num*i)"
   ]
  },
  {
   "cell_type": "code",
   "execution_count": 67,
   "id": "71f10b18",
   "metadata": {},
   "outputs": [
    {
     "name": "stdout",
     "output_type": "stream",
     "text": [
      "range(1, 11)\n"
     ]
    }
   ],
   "source": [
    "print(range(1,11))"
   ]
  },
  {
   "cell_type": "code",
   "execution_count": 72,
   "id": "f2458415",
   "metadata": {},
   "outputs": [
    {
     "name": "stdout",
     "output_type": "stream",
     "text": [
      "Enter the number \n",
      "11\n",
      "11 * 1 = 11\n",
      "11 * 2 = 22\n",
      "11 * 3 = 33\n",
      "11 * 4 = 44\n",
      "11 * 5 = 55\n",
      "11 * 6 = 66\n",
      "11 * 7 = 77\n",
      "11 * 8 = 88\n",
      "11 * 9 = 99\n",
      "11 * 10 = 110\n"
     ]
    }
   ],
   "source": [
    "print(\"Enter the number \")\n",
    "num=int(input())\n",
    "#num1= input()#input function takes values from standard input console in the form string\n",
    "#print(type(num1))\n",
    "#num=input()\n",
    "for i in range(1,11):\n",
    "    print(num,'*',i,'=',num*i)"
   ]
  },
  {
   "cell_type": "code",
   "execution_count": null,
   "id": "dc62107e",
   "metadata": {},
   "outputs": [],
   "source": []
  }
 ],
 "metadata": {
  "kernelspec": {
   "display_name": "Python 3 (ipykernel)",
   "language": "python",
   "name": "python3"
  },
  "language_info": {
   "codemirror_mode": {
    "name": "ipython",
    "version": 3
   },
   "file_extension": ".py",
   "mimetype": "text/x-python",
   "name": "python",
   "nbconvert_exporter": "python",
   "pygments_lexer": "ipython3",
   "version": "3.11.5"
  }
 },
 "nbformat": 4,
 "nbformat_minor": 5
}
